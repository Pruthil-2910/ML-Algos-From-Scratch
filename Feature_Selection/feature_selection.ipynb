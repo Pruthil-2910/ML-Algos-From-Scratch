{
 "cells": [
  {
   "cell_type": "markdown",
   "id": "a83c8162",
   "metadata": {},
   "source": [
    "Dataset"
   ]
  },
  {
   "cell_type": "code",
   "execution_count": null,
   "id": "8cb53a11",
   "metadata": {},
   "outputs": [],
   "source": [
    "from sklearn.datasets import load_diabetes\n",
    "\n",
    "diabetes = load_diabetes()\n",
    "X = diabetes.data\n",
    "y = diabetes.target\n",
    "\n",
    "print(\"Shape of features (X):\", X.shape)\n",
    "print(\"Shape of target (y):\", y.shape)"
   ]
  },
  {
   "cell_type": "markdown",
   "id": "4c9c3178",
   "metadata": {},
   "source": [
    "# Filter Methods\n"
   ]
  },
  {
   "cell_type": "code",
   "execution_count": null,
   "id": "b5af3284",
   "metadata": {},
   "outputs": [],
   "source": [
    "from sklearn.feature_selection import VarianceThreshold, SelectKBest, chi2, f_regression, mutual_info_regression\n",
    "import pandas as pd\n",
    "import numpy as np\n",
    "\n",
    "\n",
    "feature_names = ['age', 'sex', 'bmi', 'bp', 's1', 's2', 's3', 's4', 's5', 's6']\n",
    "X_df = pd.DataFrame(X, columns=feature_names)\n",
    "\n",
    "# 1. Variance Threshold\n",
    "print(\"--- Variance Threshold ---\")\n",
    "variances = X_df.var()\n",
    "print(\"Variance of each feature:\\n\", variances)\n",
    "selector_vt = VarianceThreshold(threshold=0.002)\n",
    "selector_vt.fit(X_df)\n",
    "selected_features_vt = X_df.columns[selector_vt.get_support()]\n",
    "print(f\"\\nFeatures selected by Variance Threshold (threshold=0.002): {list(selected_features_vt)}\")\n",
    "\n",
    "\n",
    "# 2. Correlation Coefficient\n",
    "print(\"\\n--- Correlation Coefficient ---\")\n",
    "correlations = X_df.corrwith(pd.Series(y))\n",
    "print(\"Correlation with target:\\n\", correlations)\n",
    "\n",
    "\n",
    "# 3. Chi-Square Test\n",
    "print(\"\\n--- Chi-Square Test ---\")\n",
    "X_non_negative = X_df - X_df.min()\n",
    "selector_chi2 = SelectKBest(score_func=chi2, k=5)\n",
    "selector_chi2.fit(X_non_negative, y)\n",
    "scores_chi2 = pd.Series(selector_chi2.scores_, index=feature_names)\n",
    "p_values_chi2 = pd.Series(selector_chi2.pvalues_, index=feature_names)\n",
    "print(\"Chi-Square scores:\\n\", scores_chi2)\n",
    "print(\"\\nChi-Square p-values:\\n\", p_values_chi2)\n",
    "selected_features_chi2 = X_df.columns[selector_chi2.get_support()]\n",
    "print(f\"\\nFeatures selected by Chi-Square (k=5): {list(selected_features_chi2)}\")\n",
    "\n",
    "\n",
    "# 4. Mutual Information\n",
    "print(\"\\n--- Mutual Information ---\")\n",
    "mi_scores = mutual_info_regression(X_df, y)\n",
    "mi_scores_series = pd.Series(mi_scores, index=feature_names)\n",
    "print(\"Mutual Information scores:\\n\", mi_scores_series.sort_values(ascending=False))\n",
    "\n",
    "selector_mi = SelectKBest(score_func=mutual_info_regression, k=5)\n",
    "selector_mi.fit(X_df, y)\n",
    "selected_features_mi = X_df.columns[selector_mi.get_support()]\n",
    "print(f\"\\nFeatures selected by Mutual Information (k=5): {list(selected_features_mi)}\")\n",
    "\n",
    "\n",
    "# 5. ANOVA F-test\n",
    "print(\"\\n--- ANOVA F-test ---\")\n",
    "f_scores_anova, p_values_anova = f_regression(X_df, y)\n",
    "f_scores_series = pd.Series(f_scores_anova, index=feature_names)\n",
    "p_values_series = pd.Series(p_values_anova, index=feature_names)\n",
    "print(\"ANOVA F-scores:\\n\", f_scores_series)\n",
    "print(\"\\nANOVA p-values:\\n\", p_values_series)\n",
    "\n",
    "selector_anova = SelectKBest(score_func=f_regression, k=5)\n",
    "selector_anova.fit(X_df, y)\n",
    "selected_features_anova = X_df.columns[selector_anova.get_support()]\n",
    "print(f\"\\nFeatures selected by ANOVA F-test (k=5): {list(selected_features_anova)}\")"
   ]
  },
  {
   "cell_type": "markdown",
   "id": "c1b6d085",
   "metadata": {},
   "source": [
    "# Wrapper Methods"
   ]
  },
  {
   "cell_type": "code",
   "execution_count": null,
   "id": "920c0dde",
   "metadata": {},
   "outputs": [],
   "source": [
    "from sklearn.feature_selection import RFE, SequentialFeatureSelector\n",
    "from sklearn.linear_model import LinearRegression\n",
    "\n",
    "# Initialize a LinearRegression model\n",
    "estimator = LinearRegression()\n",
    "\n",
    "# Implement RFE\n",
    "rfe = RFE(estimator, n_features_to_select=5)\n",
    "rfe.fit(X_df, y)\n",
    "selected_features_rfe = X_df.columns[rfe.get_support()]\n",
    "print(\"Features selected by RFE:\", list(selected_features_rfe))\n",
    "\n",
    "# Implement SFS\n",
    "sfs = SequentialFeatureSelector(estimator, n_features_to_select=5)\n",
    "sfs.fit(X_df, y)\n",
    "selected_features_sfs = X_df.columns[sfs.get_support()]\n",
    "print(\"Features selected by SFS:\", list(selected_features_sfs))"
   ]
  },
  {
   "cell_type": "markdown",
   "id": "bf4f904a",
   "metadata": {},
   "source": [
    "# Embedded Methods\n"
   ]
  },
  {
   "cell_type": "code",
   "execution_count": null,
   "id": "27464027",
   "metadata": {},
   "outputs": [],
   "source": [
    "from sklearn.linear_model import Lasso, Ridge, ElasticNet\n",
    "from sklearn.feature_selection import SelectFromModel\n",
    "from sklearn.ensemble import RandomForestRegressor\n",
    "\n",
    "# 1. Initialize embedded models\n",
    "lasso = Lasso(alpha=0.1, random_state=42)\n",
    "ridge = Ridge(alpha=0.1, random_state=42)\n",
    "elastic_net = ElasticNet(alpha=0.1, l1_ratio=0.5, random_state=42)\n",
    "rf_regressor = RandomForestRegressor(n_estimators=100, random_state=42)\n",
    "\n",
    "# 2. Use SelectFromModel with Lasso\n",
    "selector_lasso = SelectFromModel(lasso)\n",
    "selector_lasso.fit(X_df, y)\n",
    "selected_features_lasso_mask = selector_lasso.get_support()\n",
    "selected_features_lasso = X_df.columns[selected_features_lasso_mask]\n",
    "print(\"Features selected by Lasso:\", list(selected_features_lasso))\n",
    "\n",
    "# 3. Use SelectFromModel with Ridge\n",
    "selector_ridge = SelectFromModel(ridge)\n",
    "selector_ridge.fit(X_df, y)\n",
    "selected_features_ridge_mask = selector_ridge.get_support()\n",
    "selected_features_ridge = X_df.columns[selected_features_ridge_mask]\n",
    "print(\"Features selected by Ridge:\", list(selected_features_ridge))\n",
    "\n",
    "# 4. Use SelectFromModel with Elastic Net\n",
    "selector_elastic_net = SelectFromModel(elastic_net)\n",
    "selector_elastic_net.fit(X_df, y)\n",
    "selected_features_elastic_net_mask = selector_elastic_net.get_support()\n",
    "selected_features_elastic_net = X_df.columns[selected_features_elastic_net_mask]\n",
    "print(\"Features selected by Elastic Net:\", list(selected_features_elastic_net))\n",
    "\n",
    "# 5. Use SelectFromModel with Random Forest Importance\n",
    "selector_rf = SelectFromModel(rf_regressor)\n",
    "selector_rf.fit(X_df, y)\n",
    "selected_features_rf_mask = selector_rf.get_support()\n",
    "selected_features_rf = X_df.columns[selected_features_rf_mask]\n",
    "print(\"Features selected by Random Forest Importance:\", list(selected_features_rf))\n"
   ]
  }
 ],
 "metadata": {
  "kernelspec": {
   "display_name": "Python 3",
   "language": "python",
   "name": "python3"
  },
  "language_info": {
   "name": "python",
   "version": "3.11.4"
  }
 },
 "nbformat": 4,
 "nbformat_minor": 5
}
